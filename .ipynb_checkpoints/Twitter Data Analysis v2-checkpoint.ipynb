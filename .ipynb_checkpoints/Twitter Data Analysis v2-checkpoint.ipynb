{
 "cells": [
  {
   "cell_type": "markdown",
   "metadata": {},
   "source": [
    "# Twitter Data Analysis\n",
    "\n",
    "@author [Swati Singh](swati.jadon0107@gmail.com)\n",
    "\n",
    "## Introduction \n",
    "This code analyzes captured data from Twitter during SuperBowl 2019. The twitter data was extracted from its API using certain keywords and stored in JSON format. The code below transforms the JSON data into pandas dataframe for further analysis.\n",
    "\n",
    "**Github: https://github.com/swatisingh0107**\n",
    "\n",
    "## Table of Content\n",
    "#### Data Preparation:\n",
    "1. Read JSON file format into a list\n",
    "2. Extract Names of retweeted account from the text of the tweet. \n",
    "3. Transform list to pandas dataframe. \n",
    "4. Extract hashtags and mentions from tweet text and store in new columns\n",
    "5. Transform created_at column from string to date-time format\n",
    "\n",
    "#### Data Cleanup:\n",
    "\n",
    "6. Check for duplicate records\n",
    "7. Remove shortened t.co links from the tweets\n",
    "8. Clean Source column of HTML code and keep only text\n",
    "\n",
    "#### Data Analysis for tweets during game time:\n",
    "9. Count number of retweets\n",
    "10. Count top twitter sources\n",
    "11. Print 4 most popular retweets. \n",
    "12. Sentiment Analysis. Print most popular tweet based on sentiment.\n",
    "\n",
    "### Remaining Things to do\n",
    "1. Extract hashtags from text column and store in a separate column in dataframe\n",
    "2. Fetch wordcloud for most discussed brandnames.\n",
    "3. Perform time series analysis of tweets\n",
    "4. Perform geographic analysis of tweets\n",
    "\n",
    "First we are going to load the Twitter JSOn file into a variable JSONdata"
   ]
  },
  {
   "cell_type": "code",
   "execution_count": 101,
   "metadata": {
    "scrolled": true
   },
   "outputs": [
    {
     "data": {
      "text/plain": [
       "'C:\\\\Users\\\\swati\\\\Google Drive\\\\GitHub\\\\TwitterDataAnalysis'"
      ]
     },
     "execution_count": 101,
     "metadata": {},
     "output_type": "execute_result"
    }
   ],
   "source": [
    "import os\n",
    "os.getcwd()"
   ]
  },
  {
   "cell_type": "code",
   "execution_count": 102,
   "metadata": {
    "scrolled": true
   },
   "outputs": [],
   "source": [
    "import json\n",
    "import pandas as pd\n",
    "import matplotlib.pyplot as plt"
   ]
  },
  {
   "cell_type": "code",
   "execution_count": 103,
   "metadata": {
    "scrolled": true
   },
   "outputs": [],
   "source": [
    "JSONdata='C:\\\\Users\\\\swati\\\\Google Drive\\\\Superbowl\\\\Dataset\\\\SuperbowlJS.json'\n"
   ]
  },
  {
   "cell_type": "markdown",
   "metadata": {},
   "source": [
    "### Read JSON data to a list\n",
    "Now we will read twitter JSON file into a list 'tweets'. Please note Twitter JSON is encoded using UTF-8 characters. Hence the parser should be able to decode the JSON file accurately."
   ]
  },
  {
   "cell_type": "code",
   "execution_count": 104,
   "metadata": {
    "scrolled": true
   },
   "outputs": [],
   "source": [
    "tweets = []\n",
    "with open(JSONdata,'r',encoding=\"utf8\") as f:\n",
    "    tweets = [json.loads(line) for line in f]"
   ]
  },
  {
   "cell_type": "markdown",
   "metadata": {},
   "source": [
    "Print text in second row."
   ]
  },
  {
   "cell_type": "code",
   "execution_count": 105,
   "metadata": {
    "scrolled": true
   },
   "outputs": [
    {
     "data": {
      "text/plain": [
       "'RT @IAStartingLine: Bud Light has now finished last in the Iowa Caucus https://t.co/hUUjmX62to'"
      ]
     },
     "execution_count": 105,
     "metadata": {},
     "output_type": "execute_result"
    }
   ],
   "source": [
    " tweets[1]['text']    "
   ]
  },
  {
   "cell_type": "markdown",
   "metadata": {},
   "source": [
    "### Total number of records"
   ]
  },
  {
   "cell_type": "code",
   "execution_count": 106,
   "metadata": {
    "scrolled": true
   },
   "outputs": [
    {
     "data": {
      "text/plain": [
       "859485"
      ]
     },
     "execution_count": 106,
     "metadata": {},
     "output_type": "execute_result"
    }
   ],
   "source": [
    "len(tweets)"
   ]
  },
  {
   "cell_type": "markdown",
   "metadata": {},
   "source": [
    "### Understanding JSON structure of tweet data\n",
    "Now we will look at the structure of the JSON to look for relevant keys that we will use for analysis."
   ]
  },
  {
   "cell_type": "code",
   "execution_count": 107,
   "metadata": {
    "scrolled": true
   },
   "outputs": [],
   "source": [
    "import json\n",
    "tweet = tweets[6]\n",
    "#print(json.dumps(tweet, indent=4))"
   ]
  },
  {
   "cell_type": "markdown",
   "metadata": {},
   "source": [
    "### Example of List item"
   ]
  },
  {
   "cell_type": "code",
   "execution_count": 108,
   "metadata": {
    "scrolled": false
   },
   "outputs": [
    {
     "data": {
      "text/plain": [
       "'<a href=\"http://twitter.com\" rel=\"nofollow\">Twitter Web Client</a>'"
      ]
     },
     "execution_count": 108,
     "metadata": {},
     "output_type": "execute_result"
    }
   ],
   "source": [
    "tweet['source']"
   ]
  },
  {
   "cell_type": "markdown",
   "metadata": {},
   "source": [
    "### Extract retweeted handles.\n",
    "The JSON does not reflect the retweeted count as expected. Hence we will use the information from the text to flag tweets that were retweeted."
   ]
  },
  {
   "cell_type": "code",
   "execution_count": 109,
   "metadata": {},
   "outputs": [],
   "source": [
    "for tweet in tweets:\n",
    "    if 'RT @' in tweet['text']: \n",
    "        tweet['retweeted_from'] = tweet['text'].split(':',1)[0]\n",
    "#         tweet['text']= tweet['text'].split(':',1)[1]\n",
    "    else:    \n",
    "        tweet['retweeted_from'] = 'other'"
   ]
  },
  {
   "cell_type": "markdown",
   "metadata": {},
   "source": [
    "### Transform tweets list to a dataframe. \n",
    "Exclude key:value pairs that are not required for our analysis."
   ]
  },
  {
   "cell_type": "code",
   "execution_count": 110,
   "metadata": {
    "scrolled": true
   },
   "outputs": [
    {
     "data": {
      "text/html": [
       "<div>\n",
       "<style scoped>\n",
       "    .dataframe tbody tr th:only-of-type {\n",
       "        vertical-align: middle;\n",
       "    }\n",
       "\n",
       "    .dataframe tbody tr th {\n",
       "        vertical-align: top;\n",
       "    }\n",
       "\n",
       "    .dataframe thead th {\n",
       "        text-align: right;\n",
       "    }\n",
       "</style>\n",
       "<table border=\"1\" class=\"dataframe\">\n",
       "  <thead>\n",
       "    <tr style=\"text-align: right;\">\n",
       "      <th></th>\n",
       "      <th>created_at</th>\n",
       "      <th>id_str</th>\n",
       "      <th>text</th>\n",
       "      <th>retweeted_from</th>\n",
       "      <th>source</th>\n",
       "      <th>retweet_count</th>\n",
       "      <th>favorite_count</th>\n",
       "      <th>screen_name</th>\n",
       "      <th>followers_count</th>\n",
       "      <th>longitude</th>\n",
       "      <th>latitude</th>\n",
       "    </tr>\n",
       "  </thead>\n",
       "  <tbody>\n",
       "    <tr>\n",
       "      <th>0</th>\n",
       "      <td>Mon Feb 04 03:20:19 +0000 2019</td>\n",
       "      <td>1092261543859884032</td>\n",
       "      <td>Best commercial BY FAR was #NFL100 ad. Rest were largely unforgettable or just plain dumb. And so sick of the… https://t.co/BdPtE9y9hq</td>\n",
       "      <td>other</td>\n",
       "      <td>&lt;a href=\"http://twitter.com/download/iphone\" rel=\"nofollow\"&gt;Twitter for iPhone&lt;/a&gt;</td>\n",
       "      <td>0</td>\n",
       "      <td>0</td>\n",
       "      <td>MelanieG_Writer</td>\n",
       "      <td>1031</td>\n",
       "      <td>-96.66696</td>\n",
       "      <td>40.80000</td>\n",
       "    </tr>\n",
       "    <tr>\n",
       "      <th>1</th>\n",
       "      <td>Mon Feb 04 03:20:19 +0000 2019</td>\n",
       "      <td>1092261541137780736</td>\n",
       "      <td>RT @IAStartingLine: Bud Light has now finished last in the Iowa Caucus https://t.co/hUUjmX62to</td>\n",
       "      <td>RT @IAStartingLine</td>\n",
       "      <td>&lt;a href=\"http://twitter.com/download/iphone\" rel=\"nofollow\"&gt;Twitter for iPhone&lt;/a&gt;</td>\n",
       "      <td>0</td>\n",
       "      <td>0</td>\n",
       "      <td>CaitrinSneed</td>\n",
       "      <td>456</td>\n",
       "      <td>-87.65005</td>\n",
       "      <td>41.85003</td>\n",
       "    </tr>\n",
       "    <tr>\n",
       "      <th>2</th>\n",
       "      <td>Mon Feb 04 03:20:21 +0000 2019</td>\n",
       "      <td>1092261550738599942</td>\n",
       "      <td>RT @GameOfThrones: .@TheBudKnight’s watch has ended.\\nWhat will you do #ForTheThrone?\\n#SBLIII @BudLight https://t.co/SzhvDcNAaL</td>\n",
       "      <td>RT @GameOfThrones</td>\n",
       "      <td>&lt;a href=\"http://twitter.com/download/android\" rel=\"nofollow\"&gt;Twitter for Android&lt;/a&gt;</td>\n",
       "      <td>0</td>\n",
       "      <td>0</td>\n",
       "      <td>tpalomaresc</td>\n",
       "      <td>72</td>\n",
       "      <td>NaN</td>\n",
       "      <td>NaN</td>\n",
       "    </tr>\n",
       "    <tr>\n",
       "      <th>3</th>\n",
       "      <td>Mon Feb 04 03:20:22 +0000 2019</td>\n",
       "      <td>1092261555008401409</td>\n",
       "      <td>RT @GameOfThrones: .@TheBudKnight’s watch has ended.\\nWhat will you do #ForTheThrone?\\n#SBLIII @BudLight https://t.co/SzhvDcNAaL</td>\n",
       "      <td>RT @GameOfThrones</td>\n",
       "      <td>&lt;a href=\"http://twitter.com/download/iphone\" rel=\"nofollow\"&gt;Twitter for iPhone&lt;/a&gt;</td>\n",
       "      <td>0</td>\n",
       "      <td>0</td>\n",
       "      <td>haileyncrawford</td>\n",
       "      <td>104</td>\n",
       "      <td>NaN</td>\n",
       "      <td>NaN</td>\n",
       "    </tr>\n",
       "    <tr>\n",
       "      <th>4</th>\n",
       "      <td>Mon Feb 04 03:20:25 +0000 2019</td>\n",
       "      <td>1092261568404967425</td>\n",
       "      <td>RT @GameOfThrones: .@TheBudKnight’s watch has ended.\\nWhat will you do #ForTheThrone?\\n#SBLIII @BudLight https://t.co/SzhvDcNAaL</td>\n",
       "      <td>RT @GameOfThrones</td>\n",
       "      <td>&lt;a href=\"http://twitter.com/download/android\" rel=\"nofollow\"&gt;Twitter for Android&lt;/a&gt;</td>\n",
       "      <td>0</td>\n",
       "      <td>0</td>\n",
       "      <td>jamesmortlock1</td>\n",
       "      <td>14</td>\n",
       "      <td>NaN</td>\n",
       "      <td>NaN</td>\n",
       "    </tr>\n",
       "  </tbody>\n",
       "</table>\n",
       "</div>"
      ],
      "text/plain": [
       "                       created_at               id_str  \\\n",
       "0  Mon Feb 04 03:20:19 +0000 2019  1092261543859884032   \n",
       "1  Mon Feb 04 03:20:19 +0000 2019  1092261541137780736   \n",
       "2  Mon Feb 04 03:20:21 +0000 2019  1092261550738599942   \n",
       "3  Mon Feb 04 03:20:22 +0000 2019  1092261555008401409   \n",
       "4  Mon Feb 04 03:20:25 +0000 2019  1092261568404967425   \n",
       "\n",
       "                                                                                                                                     text  \\\n",
       "0  Best commercial BY FAR was #NFL100 ad. Rest were largely unforgettable or just plain dumb. And so sick of the… https://t.co/BdPtE9y9hq   \n",
       "1  RT @IAStartingLine: Bud Light has now finished last in the Iowa Caucus https://t.co/hUUjmX62to                                           \n",
       "2  RT @GameOfThrones: .@TheBudKnight’s watch has ended.\\nWhat will you do #ForTheThrone?\\n#SBLIII @BudLight https://t.co/SzhvDcNAaL         \n",
       "3  RT @GameOfThrones: .@TheBudKnight’s watch has ended.\\nWhat will you do #ForTheThrone?\\n#SBLIII @BudLight https://t.co/SzhvDcNAaL         \n",
       "4  RT @GameOfThrones: .@TheBudKnight’s watch has ended.\\nWhat will you do #ForTheThrone?\\n#SBLIII @BudLight https://t.co/SzhvDcNAaL         \n",
       "\n",
       "       retweeted_from  \\\n",
       "0  other                \n",
       "1  RT @IAStartingLine   \n",
       "2  RT @GameOfThrones    \n",
       "3  RT @GameOfThrones    \n",
       "4  RT @GameOfThrones    \n",
       "\n",
       "                                                                                 source  \\\n",
       "0  <a href=\"http://twitter.com/download/iphone\" rel=\"nofollow\">Twitter for iPhone</a>     \n",
       "1  <a href=\"http://twitter.com/download/iphone\" rel=\"nofollow\">Twitter for iPhone</a>     \n",
       "2  <a href=\"http://twitter.com/download/android\" rel=\"nofollow\">Twitter for Android</a>   \n",
       "3  <a href=\"http://twitter.com/download/iphone\" rel=\"nofollow\">Twitter for iPhone</a>     \n",
       "4  <a href=\"http://twitter.com/download/android\" rel=\"nofollow\">Twitter for Android</a>   \n",
       "\n",
       "   retweet_count  favorite_count      screen_name  followers_count  longitude  \\\n",
       "0  0              0               MelanieG_Writer  1031            -96.66696    \n",
       "1  0              0               CaitrinSneed     456             -87.65005    \n",
       "2  0              0               tpalomaresc      72              NaN          \n",
       "3  0              0               haileyncrawford  104             NaN          \n",
       "4  0              0               jamesmortlock1   14              NaN          \n",
       "\n",
       "   latitude  \n",
       "0  40.80000  \n",
       "1  41.85003  \n",
       "2 NaN        \n",
       "3 NaN        \n",
       "4 NaN        "
      ]
     },
     "execution_count": 110,
     "metadata": {},
     "output_type": "execute_result"
    }
   ],
   "source": [
    "\n",
    "column_list=['created_at','id_str','text','retweeted_from','source','retweet_count','favorite_count',\n",
    "             'screen_name','followers_count','longitude','latitude']\n",
    "\n",
    "tweet_data = []\n",
    "for tweet in tweets:\n",
    "    tweet_data.append([tweet[key] for key in column_list[:-4]])\n",
    "    tweet_data[-1].append(tweet['user']['screen_name'])\n",
    "    tweet_data[-1].append(tweet['user']['followers_count'])\n",
    "#     if 'extended_tweet' in tweet.keys():\n",
    "#         tweet_data[-1].append(tweet['extended_tweet']['full_text'])\n",
    "#     else:\n",
    "#         tweet_data[-1].append(\"None\")\n",
    "            \n",
    "    if 'derived' in tweet['user'].keys():\n",
    "        tweet_data[-1].append(tweet['user']['derived']['locations'][0]['geo']['coordinates'][0])\n",
    "        tweet_data[-1].append(tweet['user']['derived']['locations'][0]['geo']['coordinates'][1])\n",
    "    \n",
    "    \n",
    "data = pd.DataFrame(tweet_data, columns=column_list)\n",
    "data.head()"
   ]
  },
  {
   "cell_type": "markdown",
   "metadata": {},
   "source": [
    "### Drop duplicated records"
   ]
  },
  {
   "cell_type": "code",
   "execution_count": 111,
   "metadata": {
    "scrolled": false
   },
   "outputs": [],
   "source": [
    "data=data.drop_duplicates('id_str')"
   ]
  },
  {
   "cell_type": "markdown",
   "metadata": {},
   "source": [
    "### Total records to be used for analysis"
   ]
  },
  {
   "cell_type": "code",
   "execution_count": 112,
   "metadata": {
    "scrolled": true
   },
   "outputs": [
    {
     "data": {
      "text/plain": [
       "767453"
      ]
     },
     "execution_count": 112,
     "metadata": {},
     "output_type": "execute_result"
    }
   ],
   "source": [
    "len(data)"
   ]
  },
  {
   "cell_type": "markdown",
   "metadata": {},
   "source": [
    "### Remove hyperlinks from tweet text"
   ]
  },
  {
   "cell_type": "code",
   "execution_count": 113,
   "metadata": {},
   "outputs": [],
   "source": [
    "import re\n",
    "data['text']=data['text'].str.replace(r'\\bhttps.*','',regex=True)"
   ]
  },
  {
   "cell_type": "code",
   "execution_count": 114,
   "metadata": {},
   "outputs": [
    {
     "data": {
      "text/plain": [
       "0         Best commercial BY FAR was #NFL100 ad. Rest were largely unforgettable or just plain dumb. And so sick of the…                              \n",
       "1         RT @IAStartingLine: Bud Light has now finished last in the Iowa Caucus                                                                      \n",
       "2         RT @GameOfThrones: .@TheBudKnight’s watch has ended.\\nWhat will you do #ForTheThrone?\\n#SBLIII @BudLight                                    \n",
       "3         RT @GameOfThrones: .@TheBudKnight’s watch has ended.\\nWhat will you do #ForTheThrone?\\n#SBLIII @BudLight                                    \n",
       "4         RT @GameOfThrones: .@TheBudKnight’s watch has ended.\\nWhat will you do #ForTheThrone?\\n#SBLIII @BudLight                                    \n",
       "5         RT @GameOfThrones: .@TheBudKnight’s watch has ended.\\nWhat will you do #ForTheThrone?\\n#SBLIII @BudLight                                    \n",
       "6         RT @GameOfThrones: .@TheBudKnight’s watch has ended.\\nWhat will you do #ForTheThrone?\\n#SBLIII @BudLight                                    \n",
       "7         RT @NerdsSocialClub: BEST COMMERCIAL EVER 😂\\n\\n#BudLight #GOT #GameOfThrones #ForTheThrone\\n\\n                                              \n",
       "8         RT @GameOfThrones: .@TheBudKnight’s watch has ended.\\nWhat will you do #ForTheThrone?\\n#SBLIII @BudLight                                    \n",
       "9         @NationalCorn @budlight @millerlight @Coorslite Don’t worry, @realdonaldtrump will bail us all out.                                         \n",
       "10        RT @GameOfThrones: .@TheBudKnight’s watch has ended.\\nWhat will you do #ForTheThrone?\\n#SBLIII @BudLight                                    \n",
       "11        @NationalCorn @DanaPerino @budlight @millerlight @Coorslite This beer commercial was just dumb — waste of money and time                    \n",
       "12        RT @NationalCorn: .@BudLight America’s corn farmers are disappointed in you. Our office is right down the road! We would love to discuss wi…\n",
       "13        RT @justnbreeden: @NationalCorn @budlight @millerlight @Coorslite This isn’t a @NationalCorn issue, it’s a national health issue            \n",
       "14        RT @ThorBjornsson_: In the @GameOfThrones, you win or you die, @TheBudKnight.\\n#SBLIII @BudLight                                            \n",
       "15        @Cornfrmr @reinke_farms @CaseyWhite4 @PitstickFarms @TheChadColby @budlight You might agree with a free market, but…                        \n",
       "16        RT @GameOfThrones: .@TheBudKnight’s watch has ended.\\nWhat will you do #ForTheThrone?\\n#SBLIII @BudLight                                    \n",
       "17        RT @GameOfThrones: .@TheBudKnight’s watch has ended.\\nWhat will you do #ForTheThrone?\\n#SBLIII @BudLight                                    \n",
       "18        RT @NationalCorn: .@BudLight America’s corn farmers are disappointed in you. Our office is right down the road! We would love to discuss wi…\n",
       "19        RT @NationalCorn: .@BudLight America’s corn farmers are disappointed in you. Our office is right down the road! We would love to discuss wi…\n",
       "20        @adamrg #GameOfThrones and #BudLight second                                                                                                 \n",
       "21        RT @GameOfThrones: .@TheBudKnight’s watch has ended.\\nWhat will you do #ForTheThrone?\\n#SBLIII @BudLight                                    \n",
       "22        RT @NationalCorn: .@BudLight America’s corn farmers are disappointed in you. Our office is right down the road! We would love to discuss wi…\n",
       "23        RT @ThorBjornsson_: In the @GameOfThrones, you win or you die, @TheBudKnight.\\n#SBLIII @BudLight                                            \n",
       "24        RT @GameOfThrones: .@TheBudKnight’s watch has ended.\\nWhat will you do #ForTheThrone?\\n#SBLIII @BudLight                                    \n",
       "25        @NationalCorn @DanaPerino @budlight @millerlight @Coorslite Eat a bowl of dicks corn farmers. You already infest ev…                        \n",
       "26        @CoachHansen05 @budlight NFL 100 was the most entertaining part of the night                                                                \n",
       "27        @HeatherNews8 @budlight @CBS8 Nope                                                                                                          \n",
       "28        Bud Light has always been my go to. Not anymore. @budlight. What’s up @CoorsLight ?                                                         \n",
       "29        RT @zapman62: @budlight Thanks @budlight for alienating about 90% of your agricultural customers who formerly bought Bud Light.  I will be… \n",
       "                                                                             ...                                                                      \n",
       "859455    RT @LGMonsterFacts: 2 years ago, @ladygaga headlined the #SuperBowl🏈 halftime show! Jumping off the roof and sending a message of unity acr…\n",
       "859456    RT @LGMonsterFacts: 2 years ago, @ladygaga headlined the #SuperBowl🏈 halftime show! Jumping off the roof and sending a message of unity acr…\n",
       "859457    RT @KalhanR: More on the history of our nation: Days shy of the first anniversary of America's founding, on Feb. 5 2017, culture was invent…\n",
       "859458    RT @LGMonsterFacts: 2 years ago, @ladygaga headlined the #SuperBowl🏈 halftime show! Jumping off the roof and sending a message of unity acr…\n",
       "859459    RT @LGMonsterFacts: 2 years ago, @ladygaga headlined the #SuperBowl🏈 halftime show! Jumping off the roof and sending a message of unity acr…\n",
       "859460    RT @UMNmarch: It’s still hard to believe we were a part of #SuperBowlSunday and #PepsiHalftime last year... 🤩 #memories #canwegobackplz htt…\n",
       "859461    RT @gagamonster96: but wow what a moment I will never forget                                                                                \n",
       "859462    RT @LGMonsterFacts: 2 years ago, @ladygaga headlined the #SuperBowl🏈 halftime show! Jumping off the roof and sending a message of unity acr…\n",
       "859463    RT @gagamonster96: but wow what a moment I will never forget                                                                                \n",
       "859464    RT @LGMonsterFacts: 2 years ago, @ladygaga headlined the #SuperBowl🏈 halftime show! Jumping off the roof and sending a message of unity acr…\n",
       "859465    Game is under way! We’re all getting ready for the #HalftimeShow. A fun reminder of last year’s show. We loved it!…                         \n",
       "859466    RT @LGMonsterFacts: 2 years ago, @ladygaga headlined the #SuperBowl🏈 halftime show! Jumping off the roof and sending a message of unity acr…\n",
       "859467    RT @KalhanR: More on the history of our nation: Days shy of the first anniversary of America's founding, on Feb. 5 2017, culture was invent…\n",
       "859468    @DAVE_RETT  and I have a surprise for everyone at \\n#PepsiHalftime of \\n#SuperBowl53 . Early preview of three new fla…                      \n",
       "859469    RT @LGMonsterFacts: 2 years ago, @ladygaga headlined the #SuperBowl🏈 halftime show! Jumping off the roof and sending a message of unity acr…\n",
       "859470    RT @btwgaga_0328: 오늘 슈퍼볼 하는 기념으로 벌써 2년이된 역대 하프타임쇼 시청률1위인 레이디가가의 슈퍼볼 하프타임쇼를 보세요!\\n                                                           \n",
       "859471    RT @allontheboard: N1 and E1 are watching @SuperBowl tonight. Thought we'd pop up an @allontheboard about it. #PepsiHalftime #SuperBowl #SB…\n",
       "859472    RT @KalhanR: More on the history of our nation: Days shy of the first anniversary of America's founding, on Feb. 5 2017, culture was invent…\n",
       "859473    RT @LGMonsterFacts: 2 years ago, @ladygaga headlined the #SuperBowl🏈 halftime show! Jumping off the roof and sending a message of unity acr…\n",
       "859474    RT @LGMonsterFacts: 2 years ago, @ladygaga headlined the #SuperBowl🏈 halftime show! Jumping off the roof and sending a message of unity acr…\n",
       "859475    RT @gagamonster96: but wow what a moment I will never forget                                                                                \n",
       "859476    RT @gagamonster96: but wow what a moment I will never forget                                                                                \n",
       "859477    RT @UMNmarch: It’s still hard to believe we were a part of #SuperBowlSunday and #PepsiHalftime last year... 🤩 #memories #canwegobackplz htt…\n",
       "859478    Okrrrrr #SuperBowlLIII #PepsiHalftime                                                                                                       \n",
       "859479    Okurrr #PepsiHalftime                                                                                                                       \n",
       "859480    I wanna Pepsi now all cause I saw Cardi b fine add 😍😭\\n\\n#SuperBowlLIII \\n#PepsiHalftime                                                    \n",
       "859481    RT @KalhanR: More on the history of our nation: Days shy of the first anniversary of America's founding, on Feb. 5 2017, culture was invent…\n",
       "859482    Pepsi really out here tryna convince us they make good soda 🤣  #SuperBowl #PepsiHalftime                                                    \n",
       "859483    RT @LGMonsterFacts: 2 years ago, @ladygaga headlined the #SuperBowl🏈 halftime show! Jumping off the roof and sending a message of unity acr…\n",
       "859484    RT @EmmyARTPOP: @USATODAY Headlines: @ladygaga Lady Gaga Wins The Super Bowl #SuperBowl #PepsiHalftime #SB51                                \n",
       "Name: text, Length: 767453, dtype: object"
      ]
     },
     "execution_count": 114,
     "metadata": {},
     "output_type": "execute_result"
    }
   ],
   "source": [
    "pd.set_option('display.max_colwidth', -1)\n",
    "data['text'].head()"
   ]
  },
  {
   "cell_type": "markdown",
   "metadata": {},
   "source": [
    "### Extract mentions and hashtags from the text"
   ]
  },
  {
   "cell_type": "code",
   "execution_count": 115,
   "metadata": {},
   "outputs": [],
   "source": [
    "s=data[data.columns[2]]\n",
    "data['mentions']=s.str.extractall('(\\B@\\w*)').unstack().apply(lambda x:' '.join(x.dropna()), axis=1) \n",
    "data['hashtags']=s.str.extractall('(\\B#\\w*|\\B\\\\n#\\w*)').unstack().apply(lambda x:' '.join(x.dropna()), axis=1) \n",
    "data['hashtags']=data['hashtags'].str.replace('\\n','')"
   ]
  },
  {
   "cell_type": "markdown",
   "metadata": {},
   "source": [
    "### Clean source columns to remove HTML format. Also clean retweeted_from column to remove redundant characters."
   ]
  },
  {
   "cell_type": "code",
   "execution_count": 116,
   "metadata": {
    "scrolled": true
   },
   "outputs": [],
   "source": [
    "data['source'] = data['source'].str.split('>').str.get(1)\n",
    "data['source']=data['source'].str.replace('</a','')\n",
    "data['retweeted_from']=data['retweeted_from'].str.replace('RT @','')"
   ]
  },
  {
   "cell_type": "markdown",
   "metadata": {},
   "source": [
    "### Transform created_at column from string to date-time format"
   ]
  },
  {
   "cell_type": "code",
   "execution_count": 117,
   "metadata": {
    "scrolled": false
   },
   "outputs": [],
   "source": [
    "data['created_at']=pd.to_datetime(data['created_at'])"
   ]
  },
  {
   "cell_type": "markdown",
   "metadata": {},
   "source": [
    "### Keep records captured only during game time"
   ]
  },
  {
   "cell_type": "code",
   "execution_count": 118,
   "metadata": {
    "scrolled": true
   },
   "outputs": [
    {
     "data": {
      "text/html": [
       "<div>\n",
       "<style scoped>\n",
       "    .dataframe tbody tr th:only-of-type {\n",
       "        vertical-align: middle;\n",
       "    }\n",
       "\n",
       "    .dataframe tbody tr th {\n",
       "        vertical-align: top;\n",
       "    }\n",
       "\n",
       "    .dataframe thead th {\n",
       "        text-align: right;\n",
       "    }\n",
       "</style>\n",
       "<table border=\"1\" class=\"dataframe\">\n",
       "  <thead>\n",
       "    <tr style=\"text-align: right;\">\n",
       "      <th></th>\n",
       "      <th>created_at</th>\n",
       "      <th>id_str</th>\n",
       "      <th>text</th>\n",
       "      <th>retweeted_from</th>\n",
       "      <th>source</th>\n",
       "      <th>retweet_count</th>\n",
       "      <th>favorite_count</th>\n",
       "      <th>screen_name</th>\n",
       "      <th>followers_count</th>\n",
       "      <th>longitude</th>\n",
       "      <th>latitude</th>\n",
       "      <th>mentions</th>\n",
       "      <th>hashtags</th>\n",
       "    </tr>\n",
       "  </thead>\n",
       "  <tbody>\n",
       "    <tr>\n",
       "      <th>0</th>\n",
       "      <td>2019-02-04 03:20:19</td>\n",
       "      <td>1092261543859884032</td>\n",
       "      <td>Best commercial BY FAR was #NFL100 ad. Rest were largely unforgettable or just plain dumb. And so sick of the…</td>\n",
       "      <td>other</td>\n",
       "      <td>Twitter for iPhone</td>\n",
       "      <td>0</td>\n",
       "      <td>0</td>\n",
       "      <td>MelanieG_Writer</td>\n",
       "      <td>1031</td>\n",
       "      <td>-96.66696</td>\n",
       "      <td>40.80000</td>\n",
       "      <td>NaN</td>\n",
       "      <td>#NFL100</td>\n",
       "    </tr>\n",
       "    <tr>\n",
       "      <th>1</th>\n",
       "      <td>2019-02-04 03:20:19</td>\n",
       "      <td>1092261541137780736</td>\n",
       "      <td>RT @IAStartingLine: Bud Light has now finished last in the Iowa Caucus</td>\n",
       "      <td>IAStartingLine</td>\n",
       "      <td>Twitter for iPhone</td>\n",
       "      <td>0</td>\n",
       "      <td>0</td>\n",
       "      <td>CaitrinSneed</td>\n",
       "      <td>456</td>\n",
       "      <td>-87.65005</td>\n",
       "      <td>41.85003</td>\n",
       "      <td>@IAStartingLine</td>\n",
       "      <td>NaN</td>\n",
       "    </tr>\n",
       "    <tr>\n",
       "      <th>2</th>\n",
       "      <td>2019-02-04 03:20:21</td>\n",
       "      <td>1092261550738599942</td>\n",
       "      <td>RT @GameOfThrones: .@TheBudKnight’s watch has ended.\\nWhat will you do #ForTheThrone?\\n#SBLIII @BudLight</td>\n",
       "      <td>GameOfThrones</td>\n",
       "      <td>Twitter for Android</td>\n",
       "      <td>0</td>\n",
       "      <td>0</td>\n",
       "      <td>tpalomaresc</td>\n",
       "      <td>72</td>\n",
       "      <td>NaN</td>\n",
       "      <td>NaN</td>\n",
       "      <td>@GameOfThrones @TheBudKnight @BudLight</td>\n",
       "      <td>#ForTheThrone #SBLIII</td>\n",
       "    </tr>\n",
       "    <tr>\n",
       "      <th>3</th>\n",
       "      <td>2019-02-04 03:20:22</td>\n",
       "      <td>1092261555008401409</td>\n",
       "      <td>RT @GameOfThrones: .@TheBudKnight’s watch has ended.\\nWhat will you do #ForTheThrone?\\n#SBLIII @BudLight</td>\n",
       "      <td>GameOfThrones</td>\n",
       "      <td>Twitter for iPhone</td>\n",
       "      <td>0</td>\n",
       "      <td>0</td>\n",
       "      <td>haileyncrawford</td>\n",
       "      <td>104</td>\n",
       "      <td>NaN</td>\n",
       "      <td>NaN</td>\n",
       "      <td>@GameOfThrones @TheBudKnight @BudLight</td>\n",
       "      <td>#ForTheThrone #SBLIII</td>\n",
       "    </tr>\n",
       "    <tr>\n",
       "      <th>4</th>\n",
       "      <td>2019-02-04 03:20:25</td>\n",
       "      <td>1092261568404967425</td>\n",
       "      <td>RT @GameOfThrones: .@TheBudKnight’s watch has ended.\\nWhat will you do #ForTheThrone?\\n#SBLIII @BudLight</td>\n",
       "      <td>GameOfThrones</td>\n",
       "      <td>Twitter for Android</td>\n",
       "      <td>0</td>\n",
       "      <td>0</td>\n",
       "      <td>jamesmortlock1</td>\n",
       "      <td>14</td>\n",
       "      <td>NaN</td>\n",
       "      <td>NaN</td>\n",
       "      <td>@GameOfThrones @TheBudKnight @BudLight</td>\n",
       "      <td>#ForTheThrone #SBLIII</td>\n",
       "    </tr>\n",
       "  </tbody>\n",
       "</table>\n",
       "</div>"
      ],
      "text/plain": [
       "           created_at               id_str  \\\n",
       "0 2019-02-04 03:20:19  1092261543859884032   \n",
       "1 2019-02-04 03:20:19  1092261541137780736   \n",
       "2 2019-02-04 03:20:21  1092261550738599942   \n",
       "3 2019-02-04 03:20:22  1092261555008401409   \n",
       "4 2019-02-04 03:20:25  1092261568404967425   \n",
       "\n",
       "                                                                                                              text  \\\n",
       "0  Best commercial BY FAR was #NFL100 ad. Rest were largely unforgettable or just plain dumb. And so sick of the…    \n",
       "1  RT @IAStartingLine: Bud Light has now finished last in the Iowa Caucus                                            \n",
       "2  RT @GameOfThrones: .@TheBudKnight’s watch has ended.\\nWhat will you do #ForTheThrone?\\n#SBLIII @BudLight          \n",
       "3  RT @GameOfThrones: .@TheBudKnight’s watch has ended.\\nWhat will you do #ForTheThrone?\\n#SBLIII @BudLight          \n",
       "4  RT @GameOfThrones: .@TheBudKnight’s watch has ended.\\nWhat will you do #ForTheThrone?\\n#SBLIII @BudLight          \n",
       "\n",
       "   retweeted_from               source  retweet_count  favorite_count  \\\n",
       "0  other           Twitter for iPhone   0              0                \n",
       "1  IAStartingLine  Twitter for iPhone   0              0                \n",
       "2  GameOfThrones   Twitter for Android  0              0                \n",
       "3  GameOfThrones   Twitter for iPhone   0              0                \n",
       "4  GameOfThrones   Twitter for Android  0              0                \n",
       "\n",
       "       screen_name  followers_count  longitude  latitude  \\\n",
       "0  MelanieG_Writer  1031            -96.66696   40.80000   \n",
       "1  CaitrinSneed     456             -87.65005   41.85003   \n",
       "2  tpalomaresc      72              NaN        NaN         \n",
       "3  haileyncrawford  104             NaN        NaN         \n",
       "4  jamesmortlock1   14              NaN        NaN         \n",
       "\n",
       "                                 mentions               hashtags  \n",
       "0  NaN                                     #NFL100                \n",
       "1  @IAStartingLine                         NaN                    \n",
       "2  @GameOfThrones @TheBudKnight @BudLight  #ForTheThrone #SBLIII  \n",
       "3  @GameOfThrones @TheBudKnight @BudLight  #ForTheThrone #SBLIII  \n",
       "4  @GameOfThrones @TheBudKnight @BudLight  #ForTheThrone #SBLIII  "
      ]
     },
     "execution_count": 118,
     "metadata": {},
     "output_type": "execute_result"
    }
   ],
   "source": [
    "data=data[(data['created_at']>'2019-02-03 23:29:00') & (data['created_at']<'2019-02-04 04:00:00')]\n",
    "data.head()"
   ]
  },
  {
   "cell_type": "code",
   "execution_count": 119,
   "metadata": {},
   "outputs": [
    {
     "data": {
      "text/plain": [
       "753102"
      ]
     },
     "execution_count": 119,
     "metadata": {},
     "output_type": "execute_result"
    }
   ],
   "source": [
    "len(data)"
   ]
  },
  {
   "cell_type": "markdown",
   "metadata": {},
   "source": [
    "### Count number of retweets"
   ]
  },
  {
   "cell_type": "code",
   "execution_count": 120,
   "metadata": {
    "scrolled": true
   },
   "outputs": [],
   "source": [
    "retweet_count=data.groupby(['retweeted_from','text']).size().reset_index(name='counts')"
   ]
  },
  {
   "cell_type": "code",
   "execution_count": 121,
   "metadata": {},
   "outputs": [
    {
     "data": {
      "text/html": [
       "<div>\n",
       "<style scoped>\n",
       "    .dataframe tbody tr th:only-of-type {\n",
       "        vertical-align: middle;\n",
       "    }\n",
       "\n",
       "    .dataframe tbody tr th {\n",
       "        vertical-align: top;\n",
       "    }\n",
       "\n",
       "    .dataframe thead th {\n",
       "        text-align: right;\n",
       "    }\n",
       "</style>\n",
       "<table border=\"1\" class=\"dataframe\">\n",
       "  <thead>\n",
       "    <tr style=\"text-align: right;\">\n",
       "      <th></th>\n",
       "      <th>favorite_count</th>\n",
       "      <th>retweet_count</th>\n",
       "    </tr>\n",
       "    <tr>\n",
       "      <th>retweeted_from</th>\n",
       "      <th></th>\n",
       "      <th></th>\n",
       "    </tr>\n",
       "  </thead>\n",
       "  <tbody>\n",
       "    <tr>\n",
       "      <th>!!! CNET</th>\n",
       "      <td>0</td>\n",
       "      <td>0</td>\n",
       "    </tr>\n",
       "    <tr>\n",
       "      <th>#BVSBooks</th>\n",
       "      <td>1</td>\n",
       "      <td>1</td>\n",
       "    </tr>\n",
       "    <tr>\n",
       "      <th>#ElvisDuranShow</th>\n",
       "      <td>0</td>\n",
       "      <td>0</td>\n",
       "    </tr>\n",
       "    <tr>\n",
       "      <th>#EverythingWeGot #gopats theatlantavoice</th>\n",
       "      <td>0</td>\n",
       "      <td>0</td>\n",
       "    </tr>\n",
       "    <tr>\n",
       "      <th>#LARams #gorams QuarterPress</th>\n",
       "      <td>0</td>\n",
       "      <td>0</td>\n",
       "    </tr>\n",
       "  </tbody>\n",
       "</table>\n",
       "</div>"
      ],
      "text/plain": [
       "                                          favorite_count  retweet_count\n",
       "retweeted_from                                                         \n",
       "!!! CNET                                  0               0            \n",
       "#BVSBooks                                 1               1            \n",
       "#ElvisDuranShow                           0               0            \n",
       "#EverythingWeGot #gopats theatlantavoice  0               0            \n",
       "#LARams #gorams QuarterPress              0               0            "
      ]
     },
     "execution_count": 121,
     "metadata": {},
     "output_type": "execute_result"
    }
   ],
   "source": [
    "import numpy as np\n",
    "# count_stat=data.groupby(['retweeted_from'])[[\"favorite_count\",\"retweet_count\"]].sum()\n",
    "count_stat=data.groupby(['retweeted_from']).agg({'favorite_count':np.sum,'retweet_count':np.sum})\n",
    "# df.groupby(['Country', 'Item_Code']).agg({'Y1961': np.sum, 'Y1962': [np.sum, np.mean]})  # Added example for two output columns from a single input column\n",
    "count_stat.head()\n",
    "#Looks lieke this data is not captured accurately to derive any meaningful information. we will use the next piece \n",
    "#of code to count the most retweeted tweet and check most popular brand account\n"
   ]
  },
  {
   "cell_type": "code",
   "execution_count": 122,
   "metadata": {},
   "outputs": [
    {
     "data": {
      "text/html": [
       "<div>\n",
       "<style scoped>\n",
       "    .dataframe tbody tr th:only-of-type {\n",
       "        vertical-align: middle;\n",
       "    }\n",
       "\n",
       "    .dataframe tbody tr th {\n",
       "        vertical-align: top;\n",
       "    }\n",
       "\n",
       "    .dataframe thead th {\n",
       "        text-align: right;\n",
       "    }\n",
       "</style>\n",
       "<table border=\"1\" class=\"dataframe\">\n",
       "  <thead>\n",
       "    <tr style=\"text-align: right;\">\n",
       "      <th></th>\n",
       "      <th>retweeted_from</th>\n",
       "      <th>text</th>\n",
       "      <th>counts</th>\n",
       "    </tr>\n",
       "  </thead>\n",
       "  <tbody>\n",
       "    <tr>\n",
       "      <th>1791</th>\n",
       "      <td>Avengers</td>\n",
       "      <td>RT @Avengers: \"Some people move on. But not us.\" Watch the brand new Marvel Studios' #AvengersEndgame spot that aired during the Big Game.…</td>\n",
       "      <td>54248</td>\n",
       "    </tr>\n",
       "    <tr>\n",
       "      <th>12905</th>\n",
       "      <td>MarvelStudios</td>\n",
       "      <td>RT @MarvelStudios: HIGHER. FURTHER. FASTER. Watch the brand-new #CaptainMarvel spot that aired during the big game. See it in theaters Marc…</td>\n",
       "      <td>12944</td>\n",
       "    </tr>\n",
       "    <tr>\n",
       "      <th>7644</th>\n",
       "      <td>GameOfThrones</td>\n",
       "      <td>RT @GameOfThrones: .@TheBudKnight’s watch has ended.\\nWhat will you do #ForTheThrone?\\n#SBLIII @BudLight</td>\n",
       "      <td>9837</td>\n",
       "    </tr>\n",
       "    <tr>\n",
       "      <th>24595</th>\n",
       "      <td>captainmarvel</td>\n",
       "      <td>RT @captainmarvel: HIGHER. FURTHER. FASTER. Watch the brand new Marvel Studios' #CaptainMarvel spot that aired during the Big Game. See it…</td>\n",
       "      <td>7155</td>\n",
       "    </tr>\n",
       "    <tr>\n",
       "      <th>600</th>\n",
       "      <td>AVG_JP</td>\n",
       "      <td>RT @AVG_JP: 人々はもう\\n　諦めている\\n我々は違う\\n　　始めるぞ\\n\\n『アベンジャーズ／エンドゲーム』特別映像解禁✨\\n\\n🌏全世界同時解禁の新映像がここに‼\\n\\n4/26（金）『アベンジャーズ ／エンドゲーム』公開\\n#アベンジャーズ が終わる\\n</td>\n",
       "      <td>6712</td>\n",
       "    </tr>\n",
       "  </tbody>\n",
       "</table>\n",
       "</div>"
      ],
      "text/plain": [
       "      retweeted_from  \\\n",
       "1791   Avengers        \n",
       "12905  MarvelStudios   \n",
       "7644   GameOfThrones   \n",
       "24595  captainmarvel   \n",
       "600    AVG_JP          \n",
       "\n",
       "                                                                                                                                               text  \\\n",
       "1791   RT @Avengers: \"Some people move on. But not us.\" Watch the brand new Marvel Studios' #AvengersEndgame spot that aired during the Big Game.…    \n",
       "12905  RT @MarvelStudios: HIGHER. FURTHER. FASTER. Watch the brand-new #CaptainMarvel spot that aired during the big game. See it in theaters Marc…   \n",
       "7644   RT @GameOfThrones: .@TheBudKnight’s watch has ended.\\nWhat will you do #ForTheThrone?\\n#SBLIII @BudLight                                       \n",
       "24595  RT @captainmarvel: HIGHER. FURTHER. FASTER. Watch the brand new Marvel Studios' #CaptainMarvel spot that aired during the Big Game. See it…    \n",
       "600    RT @AVG_JP: 人々はもう\\n　諦めている\\n我々は違う\\n　　始めるぞ\\n\\n『アベンジャーズ／エンドゲーム』特別映像解禁✨\\n\\n🌏全世界同時解禁の新映像がここに‼\\n\\n4/26（金）『アベンジャーズ ／エンドゲーム』公開\\n#アベンジャーズ が終わる\\n        \n",
       "\n",
       "       counts  \n",
       "1791   54248   \n",
       "12905  12944   \n",
       "7644   9837    \n",
       "24595  7155    \n",
       "600    6712    "
      ]
     },
     "execution_count": 122,
     "metadata": {},
     "output_type": "execute_result"
    }
   ],
   "source": [
    "retweet_count.sort_values(['counts'],ascending=False).head()"
   ]
  },
  {
   "cell_type": "markdown",
   "metadata": {},
   "source": [
    "### What are the ten most popular tweets"
   ]
  },
  {
   "cell_type": "code",
   "execution_count": 148,
   "metadata": {},
   "outputs": [
    {
     "data": {
      "text/plain": [
       "1791     RT @Avengers: \"Some people move on. But not us.\" Watch the brand new Marvel Studios' #AvengersEndgame spot that aired during the Big Game.…     \n",
       "12905    RT @MarvelStudios: HIGHER. FURTHER. FASTER. Watch the brand-new #CaptainMarvel spot that aired during the big game. See it in theaters Marc…    \n",
       "7644     RT @GameOfThrones: .@TheBudKnight’s watch has ended.\\nWhat will you do #ForTheThrone?\\n#SBLIII @BudLight                                        \n",
       "24595    RT @captainmarvel: HIGHER. FURTHER. FASTER. Watch the brand new Marvel Studios' #CaptainMarvel spot that aired during the Big Game. See it…     \n",
       "600      RT @AVG_JP: 人々はもう\\n　諦めている\\n我々は違う\\n　　始めるぞ\\n\\n『アベンジャーズ／エンドゲーム』特別映像解禁✨\\n\\n🌏全世界同時解禁の新映像がここに‼\\n\\n4/26（金）『アベンジャーズ ／エンドゲーム』公開\\n#アベンジャーズ が終わる\\n         \n",
       "4725     RT @Complex: APRIL 26TH!                                                                                                                        \n",
       "7645     RT @GameOfThrones: 70 sleeps until #GoTS8. #ForTheThrone                                                                                        \n",
       "8861     RT @IGN: 🚨 NEW AVENGERS: ENDGAME FOOTAGE 🚨                                                                                                      \n",
       "12871    RT @Marvel: HIGHER. FURTHER. FASTER. Watch the brand new Marvel Studios' @CaptainMarvel spot that aired during the Big Game. See it in thea…    \n",
       "15656    RT @PatrickMahomes5: RT &amp; @Verizon will donate $1, up to $1.5M, in support of first responders to the @GarySiniseFound. Join me in giving #…\n",
       "Name: text, dtype: object"
      ]
     },
     "execution_count": 148,
     "metadata": {},
     "output_type": "execute_result"
    }
   ],
   "source": [
    "arr=retweet_count[retweet_count.columns[2]]\n",
    "rt=np.argsort(arr,-10)[-10:]\n",
    "rt\n",
    "retweet_count['text'][rt][::-1]\n",
    "\n"
   ]
  },
  {
   "cell_type": "markdown",
   "metadata": {},
   "source": [
    "### Most popular twitter sources"
   ]
  },
  {
   "cell_type": "code",
   "execution_count": 124,
   "metadata": {},
   "outputs": [
    {
     "data": {
      "text/html": [
       "<div>\n",
       "<style scoped>\n",
       "    .dataframe tbody tr th:only-of-type {\n",
       "        vertical-align: middle;\n",
       "    }\n",
       "\n",
       "    .dataframe tbody tr th {\n",
       "        vertical-align: top;\n",
       "    }\n",
       "\n",
       "    .dataframe thead th {\n",
       "        text-align: right;\n",
       "    }\n",
       "</style>\n",
       "<table border=\"1\" class=\"dataframe\">\n",
       "  <thead>\n",
       "    <tr style=\"text-align: right;\">\n",
       "      <th></th>\n",
       "      <th>source</th>\n",
       "      <th>counts</th>\n",
       "    </tr>\n",
       "  </thead>\n",
       "  <tbody>\n",
       "    <tr>\n",
       "      <th>1090</th>\n",
       "      <td>Twitter for iPhone</td>\n",
       "      <td>413380</td>\n",
       "    </tr>\n",
       "    <tr>\n",
       "      <th>1086</th>\n",
       "      <td>Twitter for Android</td>\n",
       "      <td>201656</td>\n",
       "    </tr>\n",
       "    <tr>\n",
       "      <th>1083</th>\n",
       "      <td>Twitter Web Client</td>\n",
       "      <td>58065</td>\n",
       "    </tr>\n",
       "    <tr>\n",
       "      <th>1082</th>\n",
       "      <td>Twitter Web App</td>\n",
       "      <td>27201</td>\n",
       "    </tr>\n",
       "    <tr>\n",
       "      <th>1089</th>\n",
       "      <td>Twitter for iPad</td>\n",
       "      <td>13673</td>\n",
       "    </tr>\n",
       "  </tbody>\n",
       "</table>\n",
       "</div>"
      ],
      "text/plain": [
       "                   source  counts\n",
       "1090  Twitter for iPhone   413380\n",
       "1086  Twitter for Android  201656\n",
       "1083  Twitter Web Client   58065 \n",
       "1082  Twitter Web App      27201 \n",
       "1089  Twitter for iPad     13673 "
      ]
     },
     "execution_count": 124,
     "metadata": {},
     "output_type": "execute_result"
    }
   ],
   "source": [
    "source_count=data.groupby(['source']).size().reset_index(name='counts')\n",
    "source_count.sort_values(['counts'],ascending=False).head()"
   ]
  },
  {
   "cell_type": "markdown",
   "metadata": {},
   "source": [
    "### Sentiment Analysis"
   ]
  },
  {
   "cell_type": "code",
   "execution_count": 125,
   "metadata": {},
   "outputs": [],
   "source": [
    "from textblob import TextBlob\n",
    "import re\n",
    "\n",
    "def clean_tweet(tweet):\n",
    "    '''\n",
    "    Utility function to clean the text in a tweet by removing \n",
    "    links and special characters using regex.\n",
    "    '''\n",
    "    return ' '.join(re.sub(\"(@[A-Za-z0-9]+)|([^0-9A-Za-z \\t])|(\\w+:\\/\\/\\S+)\", \" \", tweet).split())\n",
    "\n",
    "def analize_sentiment(tweet):\n",
    "    '''\n",
    "    Utility function to classify the polarity of a tweet\n",
    "    using textblob.\n",
    "    '''\n",
    "    analysis = TextBlob(clean_tweet(tweet))\n",
    "    if analysis.sentiment.polarity > 0:\n",
    "        return 'Positive'\n",
    "    elif analysis.sentiment.polarity == 0:\n",
    "        return 'Neutral'\n",
    "    else:\n",
    "        return 'Negative'"
   ]
  },
  {
   "cell_type": "code",
   "execution_count": 131,
   "metadata": {},
   "outputs": [],
   "source": [
    "data['SA'] = data['text'].apply(analize_sentiment)"
   ]
  },
  {
   "cell_type": "code",
   "execution_count": 127,
   "metadata": {
    "scrolled": true
   },
   "outputs": [
    {
     "data": {
      "text/html": [
       "<div>\n",
       "<style scoped>\n",
       "    .dataframe tbody tr th:only-of-type {\n",
       "        vertical-align: middle;\n",
       "    }\n",
       "\n",
       "    .dataframe tbody tr th {\n",
       "        vertical-align: top;\n",
       "    }\n",
       "\n",
       "    .dataframe thead th {\n",
       "        text-align: right;\n",
       "    }\n",
       "</style>\n",
       "<table border=\"1\" class=\"dataframe\">\n",
       "  <thead>\n",
       "    <tr style=\"text-align: right;\">\n",
       "      <th></th>\n",
       "      <th>created_at</th>\n",
       "      <th>id_str</th>\n",
       "      <th>text</th>\n",
       "      <th>retweeted_from</th>\n",
       "      <th>source</th>\n",
       "      <th>retweet_count</th>\n",
       "      <th>favorite_count</th>\n",
       "      <th>screen_name</th>\n",
       "      <th>followers_count</th>\n",
       "      <th>longitude</th>\n",
       "      <th>latitude</th>\n",
       "      <th>mentions</th>\n",
       "      <th>hashtags</th>\n",
       "      <th>SA</th>\n",
       "    </tr>\n",
       "  </thead>\n",
       "  <tbody>\n",
       "    <tr>\n",
       "      <th>0</th>\n",
       "      <td>2019-02-04 03:20:19</td>\n",
       "      <td>1092261543859884032</td>\n",
       "      <td>Best commercial BY FAR was #NFL100 ad. Rest were largely unforgettable or just plain dumb. And so sick of the…</td>\n",
       "      <td>other</td>\n",
       "      <td>Twitter for iPhone</td>\n",
       "      <td>0</td>\n",
       "      <td>0</td>\n",
       "      <td>MelanieG_Writer</td>\n",
       "      <td>1031</td>\n",
       "      <td>-96.66696</td>\n",
       "      <td>40.80000</td>\n",
       "      <td>NaN</td>\n",
       "      <td>#NFL100</td>\n",
       "      <td>Positive</td>\n",
       "    </tr>\n",
       "    <tr>\n",
       "      <th>1</th>\n",
       "      <td>2019-02-04 03:20:19</td>\n",
       "      <td>1092261541137780736</td>\n",
       "      <td>RT @IAStartingLine: Bud Light has now finished last in the Iowa Caucus</td>\n",
       "      <td>IAStartingLine</td>\n",
       "      <td>Twitter for iPhone</td>\n",
       "      <td>0</td>\n",
       "      <td>0</td>\n",
       "      <td>CaitrinSneed</td>\n",
       "      <td>456</td>\n",
       "      <td>-87.65005</td>\n",
       "      <td>41.85003</td>\n",
       "      <td>@IAStartingLine</td>\n",
       "      <td>NaN</td>\n",
       "      <td>Positive</td>\n",
       "    </tr>\n",
       "    <tr>\n",
       "      <th>2</th>\n",
       "      <td>2019-02-04 03:20:21</td>\n",
       "      <td>1092261550738599942</td>\n",
       "      <td>RT @GameOfThrones: .@TheBudKnight’s watch has ended.\\nWhat will you do #ForTheThrone?\\n#SBLIII @BudLight</td>\n",
       "      <td>GameOfThrones</td>\n",
       "      <td>Twitter for Android</td>\n",
       "      <td>0</td>\n",
       "      <td>0</td>\n",
       "      <td>tpalomaresc</td>\n",
       "      <td>72</td>\n",
       "      <td>NaN</td>\n",
       "      <td>NaN</td>\n",
       "      <td>@GameOfThrones @TheBudKnight @BudLight</td>\n",
       "      <td>#ForTheThrone #SBLIII</td>\n",
       "      <td>Neutral</td>\n",
       "    </tr>\n",
       "    <tr>\n",
       "      <th>3</th>\n",
       "      <td>2019-02-04 03:20:22</td>\n",
       "      <td>1092261555008401409</td>\n",
       "      <td>RT @GameOfThrones: .@TheBudKnight’s watch has ended.\\nWhat will you do #ForTheThrone?\\n#SBLIII @BudLight</td>\n",
       "      <td>GameOfThrones</td>\n",
       "      <td>Twitter for iPhone</td>\n",
       "      <td>0</td>\n",
       "      <td>0</td>\n",
       "      <td>haileyncrawford</td>\n",
       "      <td>104</td>\n",
       "      <td>NaN</td>\n",
       "      <td>NaN</td>\n",
       "      <td>@GameOfThrones @TheBudKnight @BudLight</td>\n",
       "      <td>#ForTheThrone #SBLIII</td>\n",
       "      <td>Neutral</td>\n",
       "    </tr>\n",
       "    <tr>\n",
       "      <th>4</th>\n",
       "      <td>2019-02-04 03:20:25</td>\n",
       "      <td>1092261568404967425</td>\n",
       "      <td>RT @GameOfThrones: .@TheBudKnight’s watch has ended.\\nWhat will you do #ForTheThrone?\\n#SBLIII @BudLight</td>\n",
       "      <td>GameOfThrones</td>\n",
       "      <td>Twitter for Android</td>\n",
       "      <td>0</td>\n",
       "      <td>0</td>\n",
       "      <td>jamesmortlock1</td>\n",
       "      <td>14</td>\n",
       "      <td>NaN</td>\n",
       "      <td>NaN</td>\n",
       "      <td>@GameOfThrones @TheBudKnight @BudLight</td>\n",
       "      <td>#ForTheThrone #SBLIII</td>\n",
       "      <td>Neutral</td>\n",
       "    </tr>\n",
       "  </tbody>\n",
       "</table>\n",
       "</div>"
      ],
      "text/plain": [
       "           created_at               id_str  \\\n",
       "0 2019-02-04 03:20:19  1092261543859884032   \n",
       "1 2019-02-04 03:20:19  1092261541137780736   \n",
       "2 2019-02-04 03:20:21  1092261550738599942   \n",
       "3 2019-02-04 03:20:22  1092261555008401409   \n",
       "4 2019-02-04 03:20:25  1092261568404967425   \n",
       "\n",
       "                                                                                                              text  \\\n",
       "0  Best commercial BY FAR was #NFL100 ad. Rest were largely unforgettable or just plain dumb. And so sick of the…    \n",
       "1  RT @IAStartingLine: Bud Light has now finished last in the Iowa Caucus                                            \n",
       "2  RT @GameOfThrones: .@TheBudKnight’s watch has ended.\\nWhat will you do #ForTheThrone?\\n#SBLIII @BudLight          \n",
       "3  RT @GameOfThrones: .@TheBudKnight’s watch has ended.\\nWhat will you do #ForTheThrone?\\n#SBLIII @BudLight          \n",
       "4  RT @GameOfThrones: .@TheBudKnight’s watch has ended.\\nWhat will you do #ForTheThrone?\\n#SBLIII @BudLight          \n",
       "\n",
       "   retweeted_from               source  retweet_count  favorite_count  \\\n",
       "0  other           Twitter for iPhone   0              0                \n",
       "1  IAStartingLine  Twitter for iPhone   0              0                \n",
       "2  GameOfThrones   Twitter for Android  0              0                \n",
       "3  GameOfThrones   Twitter for iPhone   0              0                \n",
       "4  GameOfThrones   Twitter for Android  0              0                \n",
       "\n",
       "       screen_name  followers_count  longitude  latitude  \\\n",
       "0  MelanieG_Writer  1031            -96.66696   40.80000   \n",
       "1  CaitrinSneed     456             -87.65005   41.85003   \n",
       "2  tpalomaresc      72              NaN        NaN         \n",
       "3  haileyncrawford  104             NaN        NaN         \n",
       "4  jamesmortlock1   14              NaN        NaN         \n",
       "\n",
       "                                 mentions               hashtags        SA  \n",
       "0  NaN                                     #NFL100                Positive  \n",
       "1  @IAStartingLine                         NaN                    Positive  \n",
       "2  @GameOfThrones @TheBudKnight @BudLight  #ForTheThrone #SBLIII  Neutral   \n",
       "3  @GameOfThrones @TheBudKnight @BudLight  #ForTheThrone #SBLIII  Neutral   \n",
       "4  @GameOfThrones @TheBudKnight @BudLight  #ForTheThrone #SBLIII  Neutral   "
      ]
     },
     "execution_count": 127,
     "metadata": {},
     "output_type": "execute_result"
    }
   ],
   "source": [
    "data.head()"
   ]
  },
  {
   "cell_type": "markdown",
   "metadata": {},
   "source": [
    "### Count tweets and handles based on positive and negative sentiment"
   ]
  },
  {
   "cell_type": "code",
   "execution_count": 128,
   "metadata": {},
   "outputs": [
    {
     "data": {
      "text/plain": [
       "470984"
      ]
     },
     "execution_count": 128,
     "metadata": {},
     "output_type": "execute_result"
    }
   ],
   "source": [
    "#For retweet analysis, we will remove rows where retweeted from is others. These are rows which are actual tweets and not retweets.\n",
    "retweet = data[data['retweeted_from']!='other']\n",
    "len(retweet)"
   ]
  },
  {
   "cell_type": "code",
   "execution_count": 167,
   "metadata": {
    "scrolled": true
   },
   "outputs": [
    {
     "data": {
      "text/html": [
       "<div>\n",
       "<style scoped>\n",
       "    .dataframe tbody tr th:only-of-type {\n",
       "        vertical-align: middle;\n",
       "    }\n",
       "\n",
       "    .dataframe tbody tr th {\n",
       "        vertical-align: top;\n",
       "    }\n",
       "\n",
       "    .dataframe thead th {\n",
       "        text-align: right;\n",
       "    }\n",
       "</style>\n",
       "<table border=\"1\" class=\"dataframe\">\n",
       "  <thead>\n",
       "    <tr style=\"text-align: right;\">\n",
       "      <th></th>\n",
       "      <th>retweeted_from</th>\n",
       "      <th>text</th>\n",
       "      <th>SA</th>\n",
       "      <th>counts</th>\n",
       "    </tr>\n",
       "  </thead>\n",
       "  <tbody>\n",
       "    <tr>\n",
       "      <th>12905</th>\n",
       "      <td>MarvelStudios</td>\n",
       "      <td>RT @MarvelStudios: HIGHER. FURTHER. FASTER. Watch the brand-new #CaptainMarvel spot that aired during the big game. See it in theaters Marc…</td>\n",
       "      <td>Positive</td>\n",
       "      <td>12944</td>\n",
       "    </tr>\n",
       "    <tr>\n",
       "      <th>24595</th>\n",
       "      <td>captainmarvel</td>\n",
       "      <td>RT @captainmarvel: HIGHER. FURTHER. FASTER. Watch the brand new Marvel Studios' #CaptainMarvel spot that aired during the Big Game. See it…</td>\n",
       "      <td>Positive</td>\n",
       "      <td>7155</td>\n",
       "    </tr>\n",
       "    <tr>\n",
       "      <th>8861</th>\n",
       "      <td>IGN</td>\n",
       "      <td>RT @IGN: 🚨 NEW AVENGERS: ENDGAME FOOTAGE 🚨</td>\n",
       "      <td>Positive</td>\n",
       "      <td>3998</td>\n",
       "    </tr>\n",
       "    <tr>\n",
       "      <th>12871</th>\n",
       "      <td>Marvel</td>\n",
       "      <td>RT @Marvel: HIGHER. FURTHER. FASTER. Watch the brand new Marvel Studios' @CaptainMarvel spot that aired during the Big Game. See it in thea…</td>\n",
       "      <td>Positive</td>\n",
       "      <td>3912</td>\n",
       "    </tr>\n",
       "    <tr>\n",
       "      <th>15656</th>\n",
       "      <td>PatrickMahomes5</td>\n",
       "      <td>RT @PatrickMahomes5: RT &amp;amp; @Verizon will donate $1, up to $1.5M, in support of first responders to the @GarySiniseFound. Join me in giving #…</td>\n",
       "      <td>Positive</td>\n",
       "      <td>3535</td>\n",
       "    </tr>\n",
       "    <tr>\n",
       "      <th>13454</th>\n",
       "      <td>Microsoft</td>\n",
       "      <td>RT @Microsoft: Just aired: Our #SuperBowl commercial. \\nWhen everybody plays, we all win. \\n</td>\n",
       "      <td>Positive</td>\n",
       "      <td>3267</td>\n",
       "    </tr>\n",
       "    <tr>\n",
       "      <th>22033</th>\n",
       "      <td>_malikab_</td>\n",
       "      <td>RT @_malikab_: #PepsiHalftime retweet for sweet victory like for sicko mode. proving a point</td>\n",
       "      <td>Positive</td>\n",
       "      <td>2463</td>\n",
       "    </tr>\n",
       "    <tr>\n",
       "      <th>2734</th>\n",
       "      <td>Bijansiry</td>\n",
       "      <td>RT @Bijansiry: Trying to prove a point\\nRT for Sweet Victory\\nLike for this goon\\n #PepsiHalftime</td>\n",
       "      <td>Positive</td>\n",
       "      <td>2261</td>\n",
       "    </tr>\n",
       "    <tr>\n",
       "      <th>11555</th>\n",
       "      <td>LakeShowYo</td>\n",
       "      <td>RT @LakeShowYo: that Super Bowl #PepsiHalftime performance..</td>\n",
       "      <td>Positive</td>\n",
       "      <td>2056</td>\n",
       "    </tr>\n",
       "    <tr>\n",
       "      <th>13357</th>\n",
       "      <td>Micboom008</td>\n",
       "      <td>RT @Micboom008: When they only referenced Spongebob and didn't play Sweet Victory #PepsiHalftime</td>\n",
       "      <td>Positive</td>\n",
       "      <td>2056</td>\n",
       "    </tr>\n",
       "    <tr>\n",
       "      <th>7644</th>\n",
       "      <td>GameOfThrones</td>\n",
       "      <td>RT @GameOfThrones: .@TheBudKnight’s watch has ended.\\nWhat will you do #ForTheThrone?\\n#SBLIII @BudLight</td>\n",
       "      <td>Neutral</td>\n",
       "      <td>9837</td>\n",
       "    </tr>\n",
       "    <tr>\n",
       "      <th>600</th>\n",
       "      <td>AVG_JP</td>\n",
       "      <td>RT @AVG_JP: 人々はもう\\n　諦めている\\n我々は違う\\n　　始めるぞ\\n\\n『アベンジャーズ／エンドゲーム』特別映像解禁✨\\n\\n🌏全世界同時解禁の新映像がここに‼\\n\\n4/26（金）『アベンジャーズ ／エンドゲーム』公開\\n#アベンジャーズ が終わる\\n</td>\n",
       "      <td>Neutral</td>\n",
       "      <td>6712</td>\n",
       "    </tr>\n",
       "    <tr>\n",
       "      <th>4725</th>\n",
       "      <td>Complex</td>\n",
       "      <td>RT @Complex: APRIL 26TH!</td>\n",
       "      <td>Neutral</td>\n",
       "      <td>5305</td>\n",
       "    </tr>\n",
       "    <tr>\n",
       "      <th>7645</th>\n",
       "      <td>GameOfThrones</td>\n",
       "      <td>RT @GameOfThrones: 70 sleeps until #GoTS8. #ForTheThrone</td>\n",
       "      <td>Neutral</td>\n",
       "      <td>4673</td>\n",
       "    </tr>\n",
       "    <tr>\n",
       "      <th>1791</th>\n",
       "      <td>Avengers</td>\n",
       "      <td>RT @Avengers: \"Some people move on. But not us.\" Watch the brand new Marvel Studios' #AvengersEndgame spot that aired during the Big Game.…</td>\n",
       "      <td>Negative</td>\n",
       "      <td>54248</td>\n",
       "    </tr>\n",
       "  </tbody>\n",
       "</table>\n",
       "</div>"
      ],
      "text/plain": [
       "        retweeted_from  \\\n",
       "12905  MarvelStudios     \n",
       "24595  captainmarvel     \n",
       "8861   IGN               \n",
       "12871  Marvel            \n",
       "15656  PatrickMahomes5   \n",
       "13454  Microsoft         \n",
       "22033  _malikab_         \n",
       "2734   Bijansiry         \n",
       "11555  LakeShowYo        \n",
       "13357  Micboom008        \n",
       "7644   GameOfThrones     \n",
       "600    AVG_JP            \n",
       "4725   Complex           \n",
       "7645   GameOfThrones     \n",
       "1791   Avengers          \n",
       "\n",
       "                                                                                                                                                   text  \\\n",
       "12905  RT @MarvelStudios: HIGHER. FURTHER. FASTER. Watch the brand-new #CaptainMarvel spot that aired during the big game. See it in theaters Marc…       \n",
       "24595  RT @captainmarvel: HIGHER. FURTHER. FASTER. Watch the brand new Marvel Studios' #CaptainMarvel spot that aired during the Big Game. See it…        \n",
       "8861   RT @IGN: 🚨 NEW AVENGERS: ENDGAME FOOTAGE 🚨                                                                                                         \n",
       "12871  RT @Marvel: HIGHER. FURTHER. FASTER. Watch the brand new Marvel Studios' @CaptainMarvel spot that aired during the Big Game. See it in thea…       \n",
       "15656  RT @PatrickMahomes5: RT &amp; @Verizon will donate $1, up to $1.5M, in support of first responders to the @GarySiniseFound. Join me in giving #…   \n",
       "13454  RT @Microsoft: Just aired: Our #SuperBowl commercial. \\nWhen everybody plays, we all win. \\n                                                       \n",
       "22033  RT @_malikab_: #PepsiHalftime retweet for sweet victory like for sicko mode. proving a point                                                       \n",
       "2734   RT @Bijansiry: Trying to prove a point\\nRT for Sweet Victory\\nLike for this goon\\n #PepsiHalftime                                                  \n",
       "11555  RT @LakeShowYo: that Super Bowl #PepsiHalftime performance..                                                                                       \n",
       "13357  RT @Micboom008: When they only referenced Spongebob and didn't play Sweet Victory #PepsiHalftime                                                   \n",
       "7644   RT @GameOfThrones: .@TheBudKnight’s watch has ended.\\nWhat will you do #ForTheThrone?\\n#SBLIII @BudLight                                           \n",
       "600    RT @AVG_JP: 人々はもう\\n　諦めている\\n我々は違う\\n　　始めるぞ\\n\\n『アベンジャーズ／エンドゲーム』特別映像解禁✨\\n\\n🌏全世界同時解禁の新映像がここに‼\\n\\n4/26（金）『アベンジャーズ ／エンドゲーム』公開\\n#アベンジャーズ が終わる\\n            \n",
       "4725   RT @Complex: APRIL 26TH!                                                                                                                           \n",
       "7645   RT @GameOfThrones: 70 sleeps until #GoTS8. #ForTheThrone                                                                                           \n",
       "1791   RT @Avengers: \"Some people move on. But not us.\" Watch the brand new Marvel Studios' #AvengersEndgame spot that aired during the Big Game.…        \n",
       "\n",
       "             SA  counts  \n",
       "12905  Positive  12944   \n",
       "24595  Positive  7155    \n",
       "8861   Positive  3998    \n",
       "12871  Positive  3912    \n",
       "15656  Positive  3535    \n",
       "13454  Positive  3267    \n",
       "22033  Positive  2463    \n",
       "2734   Positive  2261    \n",
       "11555  Positive  2056    \n",
       "13357  Positive  2056    \n",
       "7644   Neutral   9837    \n",
       "600    Neutral   6712    \n",
       "4725   Neutral   5305    \n",
       "7645   Neutral   4673    \n",
       "1791   Negative  54248   "
      ]
     },
     "execution_count": 167,
     "metadata": {},
     "output_type": "execute_result"
    }
   ],
   "source": [
    "sentiment_count=retweet.groupby(['retweeted_from','text','SA']).size().reset_index(name='counts')\n",
    "\n",
    "sentiment_count[sentiment_count['counts']>2000].sort_values(['SA','counts'],ascending=False)"
   ]
  },
  {
   "cell_type": "code",
   "execution_count": 173,
   "metadata": {},
   "outputs": [
    {
     "name": "stdout",
     "output_type": "stream",
     "text": [
      "The retweet with most Positive sentiment is: \n",
      "RT @MarvelStudios: HIGHER. FURTHER. FASTER. Watch the brand-new #CaptainMarvel spot that aired during the big game. See it in theaters Marc… \n",
      "from MarvelStudios\n",
      "Count=12944\n",
      "-----------------------------------------------------------------\n",
      "The retweet with most Neutral sentiment is: \n",
      "RT @GameOfThrones: .@TheBudKnight’s watch has ended.\n",
      "What will you do #ForTheThrone?\n",
      "#SBLIII @BudLight  \n",
      "from GameOfThrones\n",
      "Count=9837\n",
      "-----------------------------------------------------------------\n",
      "The retweet with most Negative sentiment is: \n",
      "RT @Avengers: \"Some people move on. But not us.\" Watch the brand new Marvel Studios' #AvengersEndgame spot that aired during the Big Game.… \n",
      "from Avengers\n",
      "Count=54248\n"
     ]
    }
   ],
   "source": [
    "def tweet_sentiment(sentiment):\n",
    "    sentiment_data=sentiment_count[(sentiment_count['SA']==sentiment)& (sentiment_count['retweeted_from']!='other')]\n",
    "    max_sentiment=np.max(sentiment_data['counts'])\n",
    "    sentiment_index=sentiment_count[sentiment_count.counts==max_sentiment].index[0]\n",
    "    print(\"The retweet with most \"+ sentiment + \" sentiment is: \\n{}\".format(sentiment_count['text'][sentiment_index])+\" \\nfrom \"+(sentiment_count['retweeted_from'][sentiment_index])+ \"\\nCount=\"+str(sentiment_count['counts'][sentiment_index]))\n",
    "    \n",
    "tweet_sentiment('Positive')    \n",
    "print(\"-----------------------------------------------------------------\")\n",
    "tweet_sentiment('Neutral')\n",
    "print(\"-----------------------------------------------------------------\")\n",
    "tweet_sentiment('Negative')\n",
    "\n",
    "# def tweet_sentiment(sentiment):\n",
    "#     sentiment_data=sentiment_count[(sentiment_count['SA']==sentiment)& (sentiment_count['retweeted_from']!='other')]\n",
    "#     sentiment_array=sentiment_data[sentiment_data.columns[3]]\n",
    "#     sentiment_index=np.argsort(sentiment_array,-3)[-3:]\n",
    "#     s=sentiment_data['text'][sentiment_index][::-1]\n",
    "#     print(s)\n",
    "# #     sentiment_data['text'][sentiment_index]\n",
    "# #     print(\"The retweet with most \"+ sentiment + \" sentiment is: \\n {}\".format(sentiment_count['text'][sentiment_index][::-1])+\n",
    "# #           \" \\nfrom \"+(sentiment_count['retweeted_from'][sentiment_index][::-1])+ \"\\nCount=\"+\n",
    "# #           str(sentiment_count['counts'][sentiment_index][::-1]))\n",
    "    \n",
    "# print(\"Tweets with most positive sentiment\")\n",
    "# tweet_sentiment('Positive')    \n",
    "# print(\"-----------------------------------------------------------------\")\n",
    "# print(\"Tweets with most neutral sentiment\")\n",
    "# tweet_sentiment('Neutral')\n",
    "# print(\"-----------------------------------------------------------------\")\n",
    "# print(\"Tweets with most negative sentiment\")\n",
    "# tweet_sentiment('Negative')\n",
    "\n"
   ]
  }
 ],
 "metadata": {
  "kernelspec": {
   "display_name": "Python 3",
   "language": "python",
   "name": "python3"
  },
  "language_info": {
   "codemirror_mode": {
    "name": "ipython",
    "version": 3
   },
   "file_extension": ".py",
   "mimetype": "text/x-python",
   "name": "python",
   "nbconvert_exporter": "python",
   "pygments_lexer": "ipython3",
   "version": "3.7.0"
  }
 },
 "nbformat": 4,
 "nbformat_minor": 2
}
